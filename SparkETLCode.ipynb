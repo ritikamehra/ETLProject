{
 "cells": [
  {
   "cell_type": "markdown",
   "id": "4f6186a3",
   "metadata": {},
   "source": [
    "1. Starting Spark Application\n",
    "2. Creating Source Dataframe and Loading Data\n",
    "3. Importing PySpark Libraries for Data Transformation\n",
    "4. Creating dimension dataframes</br>\n",
    "    4.1 Creating location dimension dataframe</br>\n",
    "    4.2 Creating atm dimension dataframe</br>\n",
    "    4.3 Creating date dimension dataframe</br>\n",
    "    4.4 Creating card type dimension dataframe</br>\n",
    "5. Create fact dataframe</br>\n",
    "    5.1 Stage 1 Dataframe - Combining location dimension dataframe to fact dataframe</br>\n",
    "    5.2 Stage 2 Dataframe - Combining atm dimension dataframe to fact dataframe</br>\n",
    "    5.3 Stage 3 Dataframe - Combining date dimension dataframe to fact dataframe</br>\n",
    "    5.4 Stage 4 Dataframe - Combining card type dimension dataframe to fact dataframe</br>\n",
    "    5.5 Adding transaction id to final fact dataframe</br>\n",
    "    5.6 Transforming fact dataframe to standardize values</br>\n",
    "6. Loading data to S3 bucket \"etlproject-rit\" as CSV files"
   ]
  },
  {
   "cell_type": "markdown",
   "id": "a96c765e",
   "metadata": {},
   "source": [
    "<b>1. Starting Spark Application</b>"
   ]
  },
  {
   "cell_type": "code",
   "execution_count": 1,
   "id": "d5563f07",
   "metadata": {},
   "outputs": [
    {
     "data": {
      "application/vnd.jupyter.widget-view+json": {
       "model_id": "b5e045a93688497aa72ad5ad48350290",
       "version_major": 2,
       "version_minor": 0
      },
      "text/plain": [
       "VBox()"
      ]
     },
     "metadata": {},
     "output_type": "display_data"
    },
    {
     "name": "stdout",
     "output_type": "stream",
     "text": [
      "Starting Spark application\n"
     ]
    },
    {
     "data": {
      "text/html": [
       "<table>\n",
       "<tr><th>ID</th><th>YARN Application ID</th><th>Kind</th><th>State</th><th>Spark UI</th><th>Driver log</th><th>Current session?</th></tr><tr><td>0</td><td>application_1686143134162_0002</td><td>pyspark</td><td>idle</td><td><a target=\"_blank\" href=\"http://ip-172-31-56-7.ec2.internal:20888/proxy/application_1686143134162_0002/\">Link</a></td><td><a target=\"_blank\" href=\"http://ip-172-31-56-7.ec2.internal:8042/node/containerlogs/container_1686143134162_0002_01_000001/livy\">Link</a></td><td>✔</td></tr></table>"
      ],
      "text/plain": [
       "<IPython.core.display.HTML object>"
      ]
     },
     "metadata": {},
     "output_type": "display_data"
    },
    {
     "data": {
      "application/vnd.jupyter.widget-view+json": {
       "model_id": "",
       "version_major": 2,
       "version_minor": 0
      },
      "text/plain": [
       "FloatProgress(value=0.0, bar_style='info', description='Progress:', layout=Layout(height='25px', width='50%'),…"
      ]
     },
     "metadata": {},
     "output_type": "display_data"
    },
    {
     "name": "stdout",
     "output_type": "stream",
     "text": [
      "SparkSession available as 'spark'.\n"
     ]
    },
    {
     "data": {
      "application/vnd.jupyter.widget-view+json": {
       "model_id": "",
       "version_major": 2,
       "version_minor": 0
      },
      "text/plain": [
       "FloatProgress(value=0.0, bar_style='info', description='Progress:', layout=Layout(height='25px', width='50%'),…"
      ]
     },
     "metadata": {},
     "output_type": "display_data"
    },
    {
     "name": "stdout",
     "output_type": "stream",
     "text": [
      "<pyspark.sql.session.SparkSession object at 0x7fc893f3db50>"
     ]
    }
   ],
   "source": [
    "spark"
   ]
  },
  {
   "cell_type": "markdown",
   "id": "caf0d858",
   "metadata": {},
   "source": [
    "<b>2. Creating Data Frame and Loading Data </b>"
   ]
  },
  {
   "cell_type": "code",
   "execution_count": 2,
   "id": "c4ecb4de",
   "metadata": {},
   "outputs": [
    {
     "data": {
      "application/vnd.jupyter.widget-view+json": {
       "model_id": "aafc3ec6ee0441f4bc21f32726e7aafa",
       "version_major": 2,
       "version_minor": 0
      },
      "text/plain": [
       "VBox()"
      ]
     },
     "metadata": {},
     "output_type": "display_data"
    },
    {
     "data": {
      "application/vnd.jupyter.widget-view+json": {
       "model_id": "",
       "version_major": 2,
       "version_minor": 0
      },
      "text/plain": [
       "FloatProgress(value=0.0, bar_style='info', description='Progress:', layout=Layout(height='25px', width='50%'),…"
      ]
     },
     "metadata": {},
     "output_type": "display_data"
    },
    {
     "name": "stdout",
     "output_type": "stream",
     "text": [
      "+----+-------+---+-------+----+----------+------+----------------+------------+-------------------+-----------------+-----------+-------+-------+--------+----------+------------------+----------+------------+------------+-----------+-----------+---------------+-----------------+------+--------+--------+----------+--------+-------+----------+----------+------------+--------------------+\n",
      "|year|  month|day|weekday|hour|atm_status|atm_id|atm_manufacturer|atm_location|     atm_streetname|atm_street_number|atm_zipcode|atm_lat|atm_lon|currency| card_type|transaction_amount|   service|message_code|message_text|weather_lat|weather_lon|weather_city_id|weather_city_name|  temp|pressure|humidity|wind_speed|wind_deg|rain_3h|clouds_all|weather_id|weather_main| weather_description|\n",
      "+----+-------+---+-------+----+----------+------+----------------+------------+-------------------+-----------------+-----------+-------+-------+--------+----------+------------------+----------+------------+------------+-----------+-----------+---------------+-----------------+------+--------+--------+----------+--------+-------+----------+----------+------------+--------------------+\n",
      "|2017|January|  1| Sunday|   0|    Active|     1|             NCR|  NÃƒÂ¦stved|        Farimagsvej|                8|       4700| 55.233| 11.763|     DKK|MasterCard|              5643|Withdrawal|        null|        null|      55.23|     11.761|        2616038|         Naestved|281.15|    1014|      87|         7|     260|  0.215|        92|       500|        Rain|          light rain|\n",
      "|2017|January|  1| Sunday|   0|  Inactive|     2|             NCR|    Vejgaard|         Hadsundvej|               20|       9000| 57.043|   9.95|     DKK|MasterCard|              1764|Withdrawal|        null|        null|     57.048|      9.935|        2616235|   NÃƒÂ¸rresundby|280.64|    1020|      93|         9|     250|   0.59|        92|       500|        Rain|          light rain|\n",
      "|2017|January|  1| Sunday|   0|  Inactive|     2|             NCR|    Vejgaard|         Hadsundvej|               20|       9000| 57.043|   9.95|     DKK|      VISA|              1891|Withdrawal|        null|        null|     57.048|      9.935|        2616235|   NÃƒÂ¸rresundby|280.64|    1020|      93|         9|     250|   0.59|        92|       500|        Rain|          light rain|\n",
      "|2017|January|  1| Sunday|   0|  Inactive|     3|             NCR|       Ikast|RÃƒÂ¥dhusstrÃƒÂ¦det|               12|       7430| 56.139|  9.154|     DKK|      VISA|              4166|Withdrawal|        null|        null|     56.139|      9.158|        2619426|            Ikast|281.15|    1011|     100|         6|     240|    0.0|        75|       300|     Drizzle|light intensity d...|\n",
      "|2017|January|  1| Sunday|   0|    Active|     4|             NCR|  Svogerslev|       BrÃƒÂ¸nsager|                1|       4000| 55.634| 12.018|     DKK|MasterCard|              5153|Withdrawal|        null|        null|     55.642|      12.08|        2614481|         Roskilde|280.61|    1014|      87|         7|     260|    0.0|        88|       701|        Mist|                mist|\n",
      "+----+-------+---+-------+----+----------+------+----------------+------------+-------------------+-----------------+-----------+-------+-------+--------+----------+------------------+----------+------------+------------+-----------+-----------+---------------+-----------------+------+--------+--------+----------+--------+-------+----------+----------+------------+--------------------+\n",
      "only showing top 5 rows"
     ]
    }
   ],
   "source": [
    "#Specifying the schema to create dataframe\n",
    "from pyspark.sql.types import StructType, StructField, IntegerType, StringType, DoubleType, LongType\n",
    "\n",
    "fileSchema = StructType([StructField('year', IntegerType(),True),\n",
    "                        StructField('month', StringType(),True),\n",
    "                        StructField('day', IntegerType(),True),\n",
    "                        StructField('weekday', StringType(),True),\n",
    "                        StructField('hour', IntegerType(),True),\n",
    "                        StructField('atm_status', StringType(),True),\n",
    "                        StructField('atm_id', StringType(),True),\n",
    "                        StructField('atm_manufacturer', StringType(),True),                \n",
    "                        StructField('atm_location', StringType(),True),\n",
    "                        StructField('atm_streetname', StringType(),True),\n",
    "                        StructField('atm_street_number', IntegerType(),True),\n",
    "                        StructField('atm_zipcode', IntegerType(),True),\n",
    "                        StructField('atm_lat', DoubleType(),True), \n",
    "                        StructField('atm_lon', DoubleType(),True),\n",
    "                        StructField('currency', StringType(),True),\n",
    "                        StructField('card_type', StringType(),True),\n",
    "                        StructField('transaction_amount', IntegerType(),True),\n",
    "                        StructField('service', StringType(),True),\n",
    "                        StructField('message_code', StringType(),True),\n",
    "                        StructField('message_text', StringType(),True),\n",
    "                        StructField('weather_lat', DoubleType(),True),\n",
    "                        StructField('weather_lon', DoubleType(),True),\n",
    "                        StructField('weather_city_id', IntegerType(),True),\n",
    "                        StructField('weather_city_name', StringType(),True),\n",
    "                        StructField('temp', DoubleType(),True),\n",
    "                        StructField('pressure', IntegerType(),True),\n",
    "                        StructField('humidity', IntegerType(),True),\n",
    "                        StructField('wind_speed', IntegerType(),True),\n",
    "                        StructField('wind_deg', IntegerType(),True),\n",
    "                        StructField('rain_3h', DoubleType(),True),\n",
    "                        StructField('clouds_all', IntegerType(),True),\n",
    "                        StructField('weather_id', IntegerType(),True),\n",
    "                        StructField('weather_main', StringType(),True),\n",
    "                        StructField('weather_description', StringType(),True)])\n",
    "\n",
    "\n",
    "df = spark.read.load(\"/user/root/atm_trans/part-m-00000\", format=\"csv\", sep=\",\", schema = fileSchema)\n",
    "df.show(5)"
   ]
  },
  {
   "cell_type": "code",
   "execution_count": 3,
   "id": "13f0d162",
   "metadata": {},
   "outputs": [
    {
     "data": {
      "application/vnd.jupyter.widget-view+json": {
       "model_id": "695289d9f7984faa9af6a68ab3358571",
       "version_major": 2,
       "version_minor": 0
      },
      "text/plain": [
       "VBox()"
      ]
     },
     "metadata": {},
     "output_type": "display_data"
    },
    {
     "data": {
      "application/vnd.jupyter.widget-view+json": {
       "model_id": "",
       "version_major": 2,
       "version_minor": 0
      },
      "text/plain": [
       "FloatProgress(value=0.0, bar_style='info', description='Progress:', layout=Layout(height='25px', width='50%'),…"
      ]
     },
     "metadata": {},
     "output_type": "display_data"
    },
    {
     "name": "stdout",
     "output_type": "stream",
     "text": [
      "2468572"
     ]
    }
   ],
   "source": [
    "df.count()"
   ]
  },
  {
   "cell_type": "markdown",
   "id": "9ac0ec9f",
   "metadata": {},
   "source": [
    "<b>3. Importing PySpark Libraries for Data Transformation</b>"
   ]
  },
  {
   "cell_type": "code",
   "execution_count": 4,
   "id": "834d4e3f",
   "metadata": {},
   "outputs": [
    {
     "data": {
      "application/vnd.jupyter.widget-view+json": {
       "model_id": "01a3df2c283d4fd18aa603ee4f7be209",
       "version_major": 2,
       "version_minor": 0
      },
      "text/plain": [
       "VBox()"
      ]
     },
     "metadata": {},
     "output_type": "display_data"
    },
    {
     "data": {
      "application/vnd.jupyter.widget-view+json": {
       "model_id": "",
       "version_major": 2,
       "version_minor": 0
      },
      "text/plain": [
       "FloatProgress(value=0.0, bar_style='info', description='Progress:', layout=Layout(height='25px', width='50%'),…"
      ]
     },
     "metadata": {},
     "output_type": "display_data"
    }
   ],
   "source": [
    "from pyspark.sql.types import *\n",
    "from pyspark.sql.window import Window\n",
    "import pyspark.sql.functions as F\n",
    "from pyspark.sql.functions import row_number"
   ]
  },
  {
   "cell_type": "markdown",
   "id": "d0782c78",
   "metadata": {},
   "source": [
    "<b>4. Creating dimension dataframes</b>"
   ]
  },
  {
   "cell_type": "markdown",
   "id": "a827df37",
   "metadata": {},
   "source": [
    "<b>4.1 Creating location dimension dataframe</b>"
   ]
  },
  {
   "cell_type": "code",
   "execution_count": 5,
   "id": "4e72768a",
   "metadata": {},
   "outputs": [
    {
     "data": {
      "application/vnd.jupyter.widget-view+json": {
       "model_id": "45b706afe9554f679ad914179d7232ed",
       "version_major": 2,
       "version_minor": 0
      },
      "text/plain": [
       "VBox()"
      ]
     },
     "metadata": {},
     "output_type": "display_data"
    },
    {
     "data": {
      "application/vnd.jupyter.widget-view+json": {
       "model_id": "",
       "version_major": 2,
       "version_minor": 0
      },
      "text/plain": [
       "FloatProgress(value=0.0, bar_style='info', description='Progress:', layout=Layout(height='25px', width='50%'),…"
      ]
     },
     "metadata": {},
     "output_type": "display_data"
    },
    {
     "name": "stdout",
     "output_type": "stream",
     "text": [
      "+-----------+--------------------+----------------+-------------+-------+------+------+\n",
      "|location_id|            location|      streetname|street_number|zipcode|   lat|   lon|\n",
      "+-----------+--------------------+----------------+-------------+-------+------+------+\n",
      "|          1|        KÃƒÂ¸benhavn|  Regnbuepladsen|            5|   1550|55.676|12.571|\n",
      "|          2|Intern  KÃƒÂ¸benhavn|RÃƒÂ¥dhuspladsen|           75|   1550|55.676|12.571|\n",
      "|          3|       Frederiksberg| Gammel Kongevej|          157|   1850|55.677|12.537|\n",
      "|          4|              Lyngby|     Jernbanevej|            6|   2800|55.772|  12.5|\n",
      "|          5|        HelsingÃƒÂ¸r|  Sct. Olai Gade|           39|   3000|56.036|12.612|\n",
      "+-----------+--------------------+----------------+-------------+-------+------+------+\n",
      "only showing top 5 rows"
     ]
    }
   ],
   "source": [
    "#creating location dimension\n",
    "dim_location = df.select(\"atm_location\",\"atm_streetname\",\"atm_street_number\",\"atm_zipcode\",\"atm_lat\",\"atm_lon\")\n",
    "#dropping duplicate values\n",
    "dim_location = dim_location.dropDuplicates()\n",
    "#using row_number function to generate sequence for id column \n",
    "dim_location = dim_location.select(F.row_number().over(Window.partitionBy().orderBy(dim_location['atm_zipcode'])).alias(\"location_id\"),\n",
    "                                   F.col(\"atm_location\").alias(\"location\"),F.col(\"atm_streetname\").alias(\"streetname\"),\n",
    "                                   F.col(\"atm_street_number\").alias(\"street_number\"),F.col(\"atm_zipcode\").alias(\"zipcode\"),\n",
    "                                   F.col(\"atm_lat\").alias(\"lat\"),F.col(\"atm_lon\").alias(\"lon\"))\n",
    "dim_location.show(5)"
   ]
  },
  {
   "cell_type": "code",
   "execution_count": 6,
   "id": "23c58ab8",
   "metadata": {},
   "outputs": [
    {
     "data": {
      "application/vnd.jupyter.widget-view+json": {
       "model_id": "3d1593178e134ad4953cea2a1c818e31",
       "version_major": 2,
       "version_minor": 0
      },
      "text/plain": [
       "VBox()"
      ]
     },
     "metadata": {},
     "output_type": "display_data"
    },
    {
     "data": {
      "application/vnd.jupyter.widget-view+json": {
       "model_id": "",
       "version_major": 2,
       "version_minor": 0
      },
      "text/plain": [
       "FloatProgress(value=0.0, bar_style='info', description='Progress:', layout=Layout(height='25px', width='50%'),…"
      ]
     },
     "metadata": {},
     "output_type": "display_data"
    },
    {
     "name": "stdout",
     "output_type": "stream",
     "text": [
      "109"
     ]
    }
   ],
   "source": [
    "dim_location.count()"
   ]
  },
  {
   "cell_type": "markdown",
   "id": "74d35f02",
   "metadata": {},
   "source": [
    "<b>4.2 Creating atm dimension dataframe</b>"
   ]
  },
  {
   "cell_type": "code",
   "execution_count": 7,
   "id": "2589fde4",
   "metadata": {},
   "outputs": [
    {
     "data": {
      "application/vnd.jupyter.widget-view+json": {
       "model_id": "ec935a877cd74fb2bba51eb2bc3ce2e5",
       "version_major": 2,
       "version_minor": 0
      },
      "text/plain": [
       "VBox()"
      ]
     },
     "metadata": {},
     "output_type": "display_data"
    },
    {
     "data": {
      "application/vnd.jupyter.widget-view+json": {
       "model_id": "",
       "version_major": 2,
       "version_minor": 0
      },
      "text/plain": [
       "FloatProgress(value=0.0, bar_style='info', description='Progress:', layout=Layout(height='25px', width='50%'),…"
      ]
     },
     "metadata": {},
     "output_type": "display_data"
    },
    {
     "name": "stdout",
     "output_type": "stream",
     "text": [
      "+------+----------+----------------+---------------+\n",
      "|atm_id|atm_number|atm_manufacturer|atm_location_id|\n",
      "+------+----------+----------------+---------------+\n",
      "|    36|        36|             NCR|             98|\n",
      "|    15|        15|             NCR|             65|\n",
      "|    71|        71|             NCR|            107|\n",
      "|   107|       107| Diebold Nixdorf|             23|\n",
      "|    46|        46| Diebold Nixdorf|              5|\n",
      "+------+----------+----------------+---------------+\n",
      "only showing top 5 rows"
     ]
    }
   ],
   "source": [
    "#creating atm dimension\n",
    "dim_atm = df.select(\"atm_id\",\"atm_manufacturer\",\"atm_location\",\"atm_streetname\",\"atm_street_number\",\"atm_zipcode\",\"atm_lat\",\"atm_lon\")\n",
    "#joining with location dimension\n",
    "dim_atm = dim_atm.join(dim_location, (dim_atm.atm_location == dim_location.location) & (dim_atm.atm_streetname == dim_location.streetname) & (dim_atm.atm_street_number == dim_location.street_number) \n",
    "& (dim_atm.atm_zipcode == dim_location.zipcode) & (dim_atm.atm_lat == dim_location.lat) & (dim_atm.atm_lon == dim_location.lon), 'left')\\\n",
    ".select(dim_atm.atm_id, dim_atm.atm_manufacturer, dim_location.location_id.alias('atm_location_id'))\n",
    "#dropping duplicate values\n",
    "dim_atm = dim_atm.dropDuplicates()\n",
    "#Since atm_id is string type renaming it to atm_number and also casting it to integer type to use as id column\n",
    "dim_atm = dim_atm.select(F.col(\"atm_id\").cast(IntegerType()), F.col(\"atm_id\").alias(\"atm_number\"), \"atm_manufacturer\", \"atm_location_id\")\n",
    "dim_atm.show(5) "
   ]
  },
  {
   "cell_type": "code",
   "execution_count": 8,
   "id": "816e4ead",
   "metadata": {},
   "outputs": [
    {
     "data": {
      "application/vnd.jupyter.widget-view+json": {
       "model_id": "4161a4cdcfdf4564a6b3939ad6550e34",
       "version_major": 2,
       "version_minor": 0
      },
      "text/plain": [
       "VBox()"
      ]
     },
     "metadata": {},
     "output_type": "display_data"
    },
    {
     "data": {
      "application/vnd.jupyter.widget-view+json": {
       "model_id": "",
       "version_major": 2,
       "version_minor": 0
      },
      "text/plain": [
       "FloatProgress(value=0.0, bar_style='info', description='Progress:', layout=Layout(height='25px', width='50%'),…"
      ]
     },
     "metadata": {},
     "output_type": "display_data"
    },
    {
     "name": "stdout",
     "output_type": "stream",
     "text": [
      "113"
     ]
    }
   ],
   "source": [
    "dim_atm.count()"
   ]
  },
  {
   "cell_type": "markdown",
   "id": "dff18fd7",
   "metadata": {},
   "source": [
    "<b>4.3 Creating date dimension dataframe</b>"
   ]
  },
  {
   "cell_type": "code",
   "execution_count": 9,
   "id": "040c49d7",
   "metadata": {},
   "outputs": [
    {
     "data": {
      "application/vnd.jupyter.widget-view+json": {
       "model_id": "63af7bfd77274c228fcb298cae7b6c5f",
       "version_major": 2,
       "version_minor": 0
      },
      "text/plain": [
       "VBox()"
      ]
     },
     "metadata": {},
     "output_type": "display_data"
    },
    {
     "data": {
      "application/vnd.jupyter.widget-view+json": {
       "model_id": "",
       "version_major": 2,
       "version_minor": 0
      },
      "text/plain": [
       "FloatProgress(value=0.0, bar_style='info', description='Progress:', layout=Layout(height='25px', width='50%'),…"
      ]
     },
     "metadata": {},
     "output_type": "display_data"
    },
    {
     "name": "stdout",
     "output_type": "stream",
     "text": [
      "+----------+-------------------+----+-------+---+----+--------+\n",
      "|   date_id|     full_date_time|year|  month|day|hour| weekday|\n",
      "+----------+-------------------+----+-------+---+----+--------+\n",
      "|2017010521|2017-01-05 21:00:00|2017|January|  5|  21|Thursday|\n",
      "|2017012215|2017-01-22 15:00:00|2017|January| 22|  15|  Sunday|\n",
      "|2017040709|2017-04-07 09:00:00|2017|  April|  7|   9|  Friday|\n",
      "|2017012318|2017-01-23 18:00:00|2017|January| 23|  18|  Monday|\n",
      "|2017031701|2017-03-17 01:00:00|2017|  March| 17|   1|  Friday|\n",
      "+----------+-------------------+----+-------+---+----+--------+\n",
      "only showing top 5 rows"
     ]
    }
   ],
   "source": [
    "#creating date dimension\n",
    "dim_date = df.select(\"year\",\"month\",\"day\",\"hour\",\"weekday\")\n",
    "#dropping duplicate values\n",
    "dim_date = dim_date.dropDuplicates()\n",
    "# creating temp column for month num\n",
    "dim_date = dim_date.withColumn('month_num', F.when(F.trim(dim_date.month) == 'January', '01').when(F.trim(dim_date.month) == 'February', '02')\\\n",
    "                               .when(F.trim(dim_date.month) == 'March', '03').when(F.trim(dim_date.month) == 'April', '04')\\\n",
    "                               .when(F.trim(dim_date.month) == 'May', '05').when(F.trim(dim_date.month) == 'June', '06')\\\n",
    "                               .when(F.trim(dim_date.month) == 'July', '07').when(F.trim(dim_date.month) == 'August', '08')\\\n",
    "                               .when(F.trim(dim_date.month) == 'September', '09').when(F.trim(dim_date.month) == 'October', '10')\\\n",
    "                               .when(F.trim(dim_date.month) == 'November', '11').when(F.trim(dim_date.month) == 'December', '12')) \n",
    "#combining year, month and day using '-' as separator and adding 0 for day less than 10\n",
    "dim_date = dim_date.withColumn('full_date_time',  F.concat_ws('-',dim_date.year, dim_date.month_num, \n",
    "                                                              F.substring(F.when(dim_date.day < 10, \n",
    "                                                                                 F.concat(F.lit('0'), \n",
    "                                                                                          F.round(dim_date.day)))\n",
    "                                                                          .otherwise(dim_date.day),0,2))) \n",
    "#combining year, month and day and adding 0 for day less than 10\n",
    "dim_date = dim_date.withColumn('date_id',  F.concat(dim_date.year, dim_date.month_num, \n",
    "                                                              F.substring(F.when(dim_date.day < 10, \n",
    "                                                                                 F.concat(F.lit('0'), \n",
    "                                                                                          F.round(dim_date.day)))\n",
    "                                                                          .otherwise(dim_date.day),0,2)))\n",
    "#adding hour to timestamp using ' ' as separator and adding 0 for hour less than 10\n",
    "dim_date = dim_date.withColumn('full_date_time',   F.concat_ws(' ',dim_date.full_date_time, \n",
    "                                                               F.substring(F.when(dim_date.hour < 10, \n",
    "                                                                                  F.concat(F.lit('0'), \n",
    "                                                                                           F.round(dim_date.hour)))\n",
    "                                                                           .otherwise(dim_date.hour),0,2))) \n",
    "#adding hour to timestamp using and adding 0 for hour less than 10\n",
    "dim_date = dim_date.withColumn('date_id',  F.concat(dim_date.date_id, \n",
    "                                                               F.substring(F.when(dim_date.hour < 10, \n",
    "                                                                                  F.concat(F.lit('0'), \n",
    "                                                                                           F.round(dim_date.hour)))\n",
    "                                                                           .otherwise(dim_date.hour),0,2))) \n",
    "#adding default minutes and seconds to timestamp using ':' as separator\n",
    "dim_date = dim_date.withColumn('full_date_time',   F.concat_ws(':',dim_date.full_date_time, F.lit('00:00')))\n",
    "#casting date_id column to Integer\n",
    "dim_date = dim_date.select( F.col(\"date_id\").cast(IntegerType()),\n",
    "                           \"full_date_time\", \"year\",\"month\",\"day\",\"hour\",\"weekday\")\n",
    "dim_date.show(5) "
   ]
  },
  {
   "cell_type": "code",
   "execution_count": 11,
   "id": "be2d750f",
   "metadata": {},
   "outputs": [
    {
     "data": {
      "application/vnd.jupyter.widget-view+json": {
       "model_id": "4ede4f46e3cb4ff29dafe2aa09b6b1ff",
       "version_major": 2,
       "version_minor": 0
      },
      "text/plain": [
       "VBox()"
      ]
     },
     "metadata": {},
     "output_type": "display_data"
    },
    {
     "data": {
      "application/vnd.jupyter.widget-view+json": {
       "model_id": "",
       "version_major": 2,
       "version_minor": 0
      },
      "text/plain": [
       "FloatProgress(value=0.0, bar_style='info', description='Progress:', layout=Layout(height='25px', width='50%'),…"
      ]
     },
     "metadata": {},
     "output_type": "display_data"
    },
    {
     "name": "stdout",
     "output_type": "stream",
     "text": [
      "8685"
     ]
    }
   ],
   "source": [
    "dim_date.count()"
   ]
  },
  {
   "cell_type": "markdown",
   "id": "dc6ce008",
   "metadata": {},
   "source": [
    "<b>4.4 Creating card type dimension dataframe</b>"
   ]
  },
  {
   "cell_type": "code",
   "execution_count": 12,
   "id": "df066c06",
   "metadata": {},
   "outputs": [
    {
     "data": {
      "application/vnd.jupyter.widget-view+json": {
       "model_id": "142f14d4ae0a43dbbc33a64ad8d6ce25",
       "version_major": 2,
       "version_minor": 0
      },
      "text/plain": [
       "VBox()"
      ]
     },
     "metadata": {},
     "output_type": "display_data"
    },
    {
     "data": {
      "application/vnd.jupyter.widget-view+json": {
       "model_id": "",
       "version_major": 2,
       "version_minor": 0
      },
      "text/plain": [
       "FloatProgress(value=0.0, bar_style='info', description='Progress:', layout=Layout(height='25px', width='50%'),…"
      ]
     },
     "metadata": {},
     "output_type": "display_data"
    },
    {
     "name": "stdout",
     "output_type": "stream",
     "text": [
      "+------------+-------------------+\n",
      "|card_type_id|          card_type|\n",
      "+------------+-------------------+\n",
      "|           1|             CIRRUS|\n",
      "|           2|            Dankort|\n",
      "|           3|    Dankort - on-us|\n",
      "|           4|        HÃƒÂ¦vekort|\n",
      "|           5|HÃƒÂ¦vekort - on-us|\n",
      "+------------+-------------------+\n",
      "only showing top 5 rows"
     ]
    }
   ],
   "source": [
    "#creating card type dimension\n",
    "dim_card_type = df.select(\"card_type\")\n",
    "#dropping duplicate values\n",
    "dim_card_type = dim_card_type.dropDuplicates()\n",
    "#using row_number function to generate sequence for id column \n",
    "dim_card_type = dim_card_type.select(F.row_number().over(Window.partitionBy().orderBy(dim_card_type['card_type'])).alias(\"card_type_id\"), \"card_type\")\n",
    "dim_card_type.show(5) "
   ]
  },
  {
   "cell_type": "code",
   "execution_count": 13,
   "id": "0e072d8d",
   "metadata": {},
   "outputs": [
    {
     "data": {
      "application/vnd.jupyter.widget-view+json": {
       "model_id": "4fe0413a77b9470a88f79896efc7d89f",
       "version_major": 2,
       "version_minor": 0
      },
      "text/plain": [
       "VBox()"
      ]
     },
     "metadata": {},
     "output_type": "display_data"
    },
    {
     "data": {
      "application/vnd.jupyter.widget-view+json": {
       "model_id": "",
       "version_major": 2,
       "version_minor": 0
      },
      "text/plain": [
       "FloatProgress(value=0.0, bar_style='info', description='Progress:', layout=Layout(height='25px', width='50%'),…"
      ]
     },
     "metadata": {},
     "output_type": "display_data"
    },
    {
     "name": "stdout",
     "output_type": "stream",
     "text": [
      "12"
     ]
    }
   ],
   "source": [
    "dim_card_type.count()"
   ]
  },
  {
   "cell_type": "markdown",
   "id": "b60300ff",
   "metadata": {},
   "source": [
    "<b>5. Creating fact dataframe</b>"
   ]
  },
  {
   "cell_type": "markdown",
   "id": "1c785879",
   "metadata": {},
   "source": [
    "<b>5.1 Stage 1 Dataframe - Combining location dimension dataframe to fact dataframe</b>"
   ]
  },
  {
   "cell_type": "code",
   "execution_count": 15,
   "id": "5d91b2b7",
   "metadata": {},
   "outputs": [
    {
     "data": {
      "application/vnd.jupyter.widget-view+json": {
       "model_id": "032e866392204e7c9f7a522f520710d2",
       "version_major": 2,
       "version_minor": 0
      },
      "text/plain": [
       "VBox()"
      ]
     },
     "metadata": {},
     "output_type": "display_data"
    },
    {
     "data": {
      "application/vnd.jupyter.widget-view+json": {
       "model_id": "",
       "version_major": 2,
       "version_minor": 0
      },
      "text/plain": [
       "FloatProgress(value=0.0, bar_style='info', description='Progress:', layout=Layout(height='25px', width='50%'),…"
      ]
     },
     "metadata": {},
     "output_type": "display_data"
    },
    {
     "name": "stdout",
     "output_type": "stream",
     "text": [
      "+----+-------+---+-------+----+----------+------+----------------+--------+------------+------------------+----------+------------+------------+-----------+-----------+---------------+-----------------+------+--------+--------+----------+--------+-------+----------+----------+------------+-------------------+--------------+\n",
      "|year|  month|day|weekday|hour|atm_status|atm_id|atm_manufacturer|currency|   card_type|transaction_amount|   service|message_code|message_text|weather_lat|weather_lon|weather_city_id|weather_city_name|  temp|pressure|humidity|wind_speed|wind_deg|rain_3h|clouds_all|weather_id|weather_main|weather_description|weather_loc_id|\n",
      "+----+-------+---+-------+----+----------+------+----------------+--------+------------+------------------+----------+------------+------------+-----------+-----------+---------------+-----------------+------+--------+--------+----------+--------+-------+----------+----------+------------+-------------------+--------------+\n",
      "|2017|January|  1| Sunday|   0|    Active|    22|             NCR|     DKK|Visa Dankort|              1053|Withdrawal|        null|        null|     55.642|      12.08|        2614481|         Roskilde|280.61|    1014|      87|         7|     260|    0.0|        88|       701|        Mist|               mist|             9|\n",
      "|2017|January|  1| Sunday|   1|    Active|    22|             NCR|     DKK|        VISA|              7799|Withdrawal|        null|        null|     55.642|      12.08|        2614481|         Roskilde|279.62|    1013|      93|         6|     250|    0.0|        88|       701|        Mist|               mist|             9|\n",
      "|2017|January|  1| Sunday|   1|    Active|    22|             NCR|     DKK|        VISA|               641|Withdrawal|        null|        null|     55.642|      12.08|        2614481|         Roskilde|279.62|    1013|      93|         6|     250|    0.0|        88|       701|        Mist|               mist|             9|\n",
      "|2017|January|  1| Sunday|   1|    Active|    45|             NCR|     DKK|  MasterCard|              7655|Withdrawal|        null|        null|     57.441|     10.537|        2621927|    Frederikshavn|281.14|    1019|      94|        12|     251|  1.275|        92|       500|        Rain|         light rain|           105|\n",
      "|2017|January|  1| Sunday|   2|    Active|    22|             NCR|     DKK|Visa Dankort|              6061|Withdrawal|        null|        null|     55.642|      12.08|        2614481|         Roskilde|280.15|    1013|      93|         6|     240|    0.0|        68|       701|        Mist|               mist|             9|\n",
      "+----+-------+---+-------+----+----------+------+----------------+--------+------------+------------------+----------+------------+------------+-----------+-----------+---------------+-----------------+------+--------+--------+----------+--------+-------+----------+----------+------------+-------------------+--------------+\n",
      "only showing top 5 rows"
     ]
    }
   ],
   "source": [
    "#copy source dataframe to fact dataframe\n",
    "fact = df\n",
    "#joining location dimension to fact table\n",
    "fact = fact.join(dim_location, (fact.atm_location == dim_location.location) & (fact.atm_streetname == dim_location.streetname) \n",
    "                 & (fact.atm_street_number == dim_location.street_number) & (fact.atm_zipcode == dim_location.zipcode) \n",
    "                 & (fact.atm_lat == dim_location.lat) & (fact.atm_lon == dim_location.lon), 'left')\\\n",
    ".select(fact.year,\n",
    " fact.month,\n",
    " fact.day,\n",
    " fact.weekday,\n",
    " fact.hour,\n",
    " fact.atm_status,\n",
    " fact.atm_id,\n",
    " fact.atm_manufacturer,\n",
    " fact.currency,\n",
    " fact.card_type,\n",
    " fact.transaction_amount,\n",
    " fact.service,\n",
    " fact.message_code,\n",
    " fact.message_text,\n",
    " fact.weather_lat,\n",
    " fact.weather_lon,\n",
    " fact.weather_city_id,\n",
    " fact.weather_city_name,\n",
    " fact.temp,\n",
    " fact.pressure,\n",
    " fact.humidity,\n",
    " fact.wind_speed,\n",
    " fact.wind_deg,\n",
    " fact.rain_3h,\n",
    " fact.clouds_all,\n",
    " fact.weather_id,\n",
    " fact.weather_main,\n",
    " fact.weather_description, dim_location.location_id.alias('weather_loc_id'))\n",
    "fact.show(5)"
   ]
  },
  {
   "cell_type": "code",
   "execution_count": 16,
   "id": "b26a5c81",
   "metadata": {},
   "outputs": [
    {
     "data": {
      "application/vnd.jupyter.widget-view+json": {
       "model_id": "71cdb1bfa9174795ad092ec03782703e",
       "version_major": 2,
       "version_minor": 0
      },
      "text/plain": [
       "VBox()"
      ]
     },
     "metadata": {},
     "output_type": "display_data"
    },
    {
     "data": {
      "application/vnd.jupyter.widget-view+json": {
       "model_id": "",
       "version_major": 2,
       "version_minor": 0
      },
      "text/plain": [
       "FloatProgress(value=0.0, bar_style='info', description='Progress:', layout=Layout(height='25px', width='50%'),…"
      ]
     },
     "metadata": {},
     "output_type": "display_data"
    },
    {
     "name": "stdout",
     "output_type": "stream",
     "text": [
      "2468572"
     ]
    }
   ],
   "source": [
    "fact.count()"
   ]
  },
  {
   "cell_type": "markdown",
   "id": "f1323a62",
   "metadata": {},
   "source": [
    "<b>5.2 Stage 2 Dataframe - Combining atm dimension dataframe to fact dataframe</b>"
   ]
  },
  {
   "cell_type": "code",
   "execution_count": 18,
   "id": "8a9f28d8",
   "metadata": {},
   "outputs": [
    {
     "data": {
      "application/vnd.jupyter.widget-view+json": {
       "model_id": "47263caf4ec040d78fd27a2d117d2a55",
       "version_major": 2,
       "version_minor": 0
      },
      "text/plain": [
       "VBox()"
      ]
     },
     "metadata": {},
     "output_type": "display_data"
    },
    {
     "data": {
      "application/vnd.jupyter.widget-view+json": {
       "model_id": "",
       "version_major": 2,
       "version_minor": 0
      },
      "text/plain": [
       "FloatProgress(value=0.0, bar_style='info', description='Progress:', layout=Layout(height='25px', width='50%'),…"
      ]
     },
     "metadata": {},
     "output_type": "display_data"
    },
    {
     "name": "stdout",
     "output_type": "stream",
     "text": [
      "+----+-------+---+-------+----+----------+--------+---------------+------------------+----------+------------+------------+-----------+-----------+---------------+-----------------+-------+--------+--------+----------+--------+-------+----------+----------+------------+-------------------+--------------+------+\n",
      "|year|  month|day|weekday|hour|atm_status|currency|      card_type|transaction_amount|   service|message_code|message_text|weather_lat|weather_lon|weather_city_id|weather_city_name|   temp|pressure|humidity|wind_speed|wind_deg|rain_3h|clouds_all|weather_id|weather_main|weather_description|weather_loc_id|atm_id|\n",
      "+----+-------+---+-------+----+----------+--------+---------------+------------------+----------+------------+------------+-----------+-----------+---------------+-----------------+-------+--------+--------+----------+--------+-------+----------+----------+------------+-------------------+--------------+------+\n",
      "|2017|January|  1| Sunday|   1|    Active|     DKK|     MasterCard|              7655|Withdrawal|        null|        null|     57.441|     10.537|        2621927|    Frederikshavn| 281.14|    1019|      94|        12|     251|  1.275|        92|       500|        Rain|         light rain|           105|    45|\n",
      "|2017|January|  1| Sunday|   2|    Active|     DKK|     MasterCard|              5587|Withdrawal|        null|        null|     57.441|     10.537|        2621927|    Frederikshavn|280.637|    1017|      97|         8|     269|  0.645|        92|       500|        Rain|         light rain|           105|    45|\n",
      "|2017|January|  1| Sunday|   6|    Active|     DKK|     MasterCard|              8163|Withdrawal|        null|        null|     57.441|     10.537|        2621927|    Frederikshavn|280.289|    1016|     100|         8|     272|    0.0|        88|       804|      Clouds|    overcast clouds|           105|    45|\n",
      "|2017|January|  1| Sunday|   7|    Active|     DKK|Dankort - on-us|              4192|Withdrawal|        null|        null|     57.441|     10.537|        2621927|    Frederikshavn|280.289|    1016|     100|         8|     272|    0.0|        88|       804|      Clouds|    overcast clouds|           105|    45|\n",
      "|2017|January|  1| Sunday|  10|    Active|     DKK|     MasterCard|              6707|Withdrawal|        null|        null|     57.441|     10.537|        2621927|    Frederikshavn| 280.27|    1016|      99|         7|     299|    0.0|        88|       804|      Clouds|    overcast clouds|           105|    45|\n",
      "+----+-------+---+-------+----+----------+--------+---------------+------------------+----------+------------+------------+-----------+-----------+---------------+-----------------+-------+--------+--------+----------+--------+-------+----------+----------+------------+-------------------+--------------+------+\n",
      "only showing top 5 rows"
     ]
    }
   ],
   "source": [
    "#joining with atm dimension\n",
    "fact = fact.join(dim_atm, (fact.atm_id == dim_atm.atm_id) & (fact.atm_manufacturer == dim_atm.atm_manufacturer)\\\n",
    "                 & (fact.weather_loc_id == dim_atm.atm_location_id), 'left')\\\n",
    ".select(fact.year,\n",
    " fact.month,\n",
    " fact.day,\n",
    " fact.weekday,\n",
    " fact.hour,\n",
    " fact.atm_status,\n",
    " fact.currency,\n",
    " fact.card_type,\n",
    " fact.transaction_amount,\n",
    " fact.service,\n",
    " fact.message_code,\n",
    " fact.message_text,\n",
    " fact.weather_lat,\n",
    " fact.weather_lon,\n",
    " fact.weather_city_id,\n",
    " fact.weather_city_name,\n",
    " fact.temp,\n",
    " fact.pressure,\n",
    " fact.humidity,\n",
    " fact.wind_speed,\n",
    " fact.wind_deg,\n",
    " fact.rain_3h,\n",
    " fact.clouds_all,\n",
    " fact.weather_id,\n",
    " fact.weather_main,\n",
    " fact.weather_description, fact.weather_loc_id, dim_atm.atm_id)\n",
    "fact.show(5)"
   ]
  },
  {
   "cell_type": "code",
   "execution_count": 19,
   "id": "81e3e0f6",
   "metadata": {},
   "outputs": [
    {
     "data": {
      "application/vnd.jupyter.widget-view+json": {
       "model_id": "01446b6001f54afd9f0e05bc2e9f6398",
       "version_major": 2,
       "version_minor": 0
      },
      "text/plain": [
       "VBox()"
      ]
     },
     "metadata": {},
     "output_type": "display_data"
    },
    {
     "data": {
      "application/vnd.jupyter.widget-view+json": {
       "model_id": "",
       "version_major": 2,
       "version_minor": 0
      },
      "text/plain": [
       "FloatProgress(value=0.0, bar_style='info', description='Progress:', layout=Layout(height='25px', width='50%'),…"
      ]
     },
     "metadata": {},
     "output_type": "display_data"
    },
    {
     "name": "stdout",
     "output_type": "stream",
     "text": [
      "2468572"
     ]
    }
   ],
   "source": [
    "fact.count()"
   ]
  },
  {
   "cell_type": "markdown",
   "id": "e48a2b11",
   "metadata": {},
   "source": [
    "<b>5.3 Stage 3 Dataframe - Combining date dimension dataframe to fact dataframe</b>"
   ]
  },
  {
   "cell_type": "code",
   "execution_count": 20,
   "id": "9650fd34",
   "metadata": {},
   "outputs": [
    {
     "data": {
      "application/vnd.jupyter.widget-view+json": {
       "model_id": "2f7643424559429eb15ed31585e8b43e",
       "version_major": 2,
       "version_minor": 0
      },
      "text/plain": [
       "VBox()"
      ]
     },
     "metadata": {},
     "output_type": "display_data"
    },
    {
     "data": {
      "application/vnd.jupyter.widget-view+json": {
       "model_id": "",
       "version_major": 2,
       "version_minor": 0
      },
      "text/plain": [
       "FloatProgress(value=0.0, bar_style='info', description='Progress:', layout=Layout(height='25px', width='50%'),…"
      ]
     },
     "metadata": {},
     "output_type": "display_data"
    },
    {
     "name": "stdout",
     "output_type": "stream",
     "text": [
      "+----------+--------+---------------+------------------+----------+------------+------------+-----------+-----------+---------------+-----------------+-------+--------+--------+----------+--------+-------+----------+----------+------------+-------------------+--------------+------+----------+\n",
      "|atm_status|currency|      card_type|transaction_amount|   service|message_code|message_text|weather_lat|weather_lon|weather_city_id|weather_city_name|   temp|pressure|humidity|wind_speed|wind_deg|rain_3h|clouds_all|weather_id|weather_main|weather_description|weather_loc_id|atm_id|   date_id|\n",
      "+----------+--------+---------------+------------------+----------+------------+------------+-----------+-----------+---------------+-----------------+-------+--------+--------+----------+--------+-------+----------+----------+------------+-------------------+--------------+------+----------+\n",
      "|    Active|     DKK|     MasterCard|              7655|Withdrawal|        null|        null|     57.441|     10.537|        2621927|    Frederikshavn| 281.14|    1019|      94|        12|     251|  1.275|        92|       500|        Rain|         light rain|           105|    45|2017010101|\n",
      "|    Active|     DKK|     MasterCard|              5587|Withdrawal|        null|        null|     57.441|     10.537|        2621927|    Frederikshavn|280.637|    1017|      97|         8|     269|  0.645|        92|       500|        Rain|         light rain|           105|    45|2017010102|\n",
      "|    Active|     DKK|     MasterCard|              8163|Withdrawal|        null|        null|     57.441|     10.537|        2621927|    Frederikshavn|280.289|    1016|     100|         8|     272|    0.0|        88|       804|      Clouds|    overcast clouds|           105|    45|2017010106|\n",
      "|    Active|     DKK|Dankort - on-us|              4192|Withdrawal|        null|        null|     57.441|     10.537|        2621927|    Frederikshavn|280.289|    1016|     100|         8|     272|    0.0|        88|       804|      Clouds|    overcast clouds|           105|    45|2017010107|\n",
      "|    Active|     DKK|     MasterCard|              6707|Withdrawal|        null|        null|     57.441|     10.537|        2621927|    Frederikshavn| 280.27|    1016|      99|         7|     299|    0.0|        88|       804|      Clouds|    overcast clouds|           105|    45|2017010110|\n",
      "+----------+--------+---------------+------------------+----------+------------+------------+-----------+-----------+---------------+-----------------+-------+--------+--------+----------+--------+-------+----------+----------+------------+-------------------+--------------+------+----------+\n",
      "only showing top 5 rows"
     ]
    }
   ],
   "source": [
    "#joining with date dimension\n",
    "fact = fact.join(dim_date, (fact.year == dim_date.year) & (fact.month == dim_date.month) & (fact.day == dim_date.day) & (fact.hour == dim_date.hour) & (fact.weekday == dim_date.weekday), 'left')\\\n",
    ".select(fact.atm_status,\n",
    " fact.currency,\n",
    " fact.card_type,\n",
    " fact.transaction_amount,\n",
    " fact.service,\n",
    " fact.message_code,\n",
    " fact.message_text,\n",
    " fact.weather_lat,\n",
    " fact.weather_lon,\n",
    " fact.weather_city_id,\n",
    " fact.weather_city_name,\n",
    " fact.temp,\n",
    " fact.pressure,\n",
    " fact.humidity,\n",
    " fact.wind_speed,\n",
    " fact.wind_deg,\n",
    " fact.rain_3h,\n",
    " fact.clouds_all,\n",
    " fact.weather_id,\n",
    " fact.weather_main,\n",
    " fact.weather_description, fact.weather_loc_id, fact.atm_id, dim_date.date_id)\n",
    "fact.show(5)"
   ]
  },
  {
   "cell_type": "code",
   "execution_count": 21,
   "id": "ef7a84ca",
   "metadata": {},
   "outputs": [
    {
     "data": {
      "application/vnd.jupyter.widget-view+json": {
       "model_id": "84e01898fbb0441f8ac3901a43b9e60b",
       "version_major": 2,
       "version_minor": 0
      },
      "text/plain": [
       "VBox()"
      ]
     },
     "metadata": {},
     "output_type": "display_data"
    },
    {
     "data": {
      "application/vnd.jupyter.widget-view+json": {
       "model_id": "",
       "version_major": 2,
       "version_minor": 0
      },
      "text/plain": [
       "FloatProgress(value=0.0, bar_style='info', description='Progress:', layout=Layout(height='25px', width='50%'),…"
      ]
     },
     "metadata": {},
     "output_type": "display_data"
    },
    {
     "name": "stdout",
     "output_type": "stream",
     "text": [
      "2468572"
     ]
    }
   ],
   "source": [
    "fact.count()"
   ]
  },
  {
   "cell_type": "markdown",
   "id": "306042b0",
   "metadata": {},
   "source": [
    "<b>5.4 Stage 4 Dataframe - Combining card type dimension dataframe to fact dataframe</b>"
   ]
  },
  {
   "cell_type": "code",
   "execution_count": 22,
   "id": "20cea451",
   "metadata": {},
   "outputs": [
    {
     "data": {
      "application/vnd.jupyter.widget-view+json": {
       "model_id": "0825f22c1c05431d824c54a44c9f20b8",
       "version_major": 2,
       "version_minor": 0
      },
      "text/plain": [
       "VBox()"
      ]
     },
     "metadata": {},
     "output_type": "display_data"
    },
    {
     "data": {
      "application/vnd.jupyter.widget-view+json": {
       "model_id": "",
       "version_major": 2,
       "version_minor": 0
      },
      "text/plain": [
       "FloatProgress(value=0.0, bar_style='info', description='Progress:', layout=Layout(height='25px', width='50%'),…"
      ]
     },
     "metadata": {},
     "output_type": "display_data"
    },
    {
     "name": "stdout",
     "output_type": "stream",
     "text": [
      "+----------+--------+------------------+----------+------------+------------+-----------+-----------+---------------+-----------------+-------+--------+--------+----------+--------+-------+----------+----------+------------+-------------------+--------------+------+----------+------------+\n",
      "|atm_status|currency|transaction_amount|   service|message_code|message_text|weather_lat|weather_lon|weather_city_id|weather_city_name|   temp|pressure|humidity|wind_speed|wind_deg|rain_3h|clouds_all|weather_id|weather_main|weather_description|weather_loc_id|atm_id|   date_id|card_type_id|\n",
      "+----------+--------+------------------+----------+------------+------------+-----------+-----------+---------------+-----------------+-------+--------+--------+----------+--------+-------+----------+----------+------------+-------------------+--------------+------+----------+------------+\n",
      "|    Active|     DKK|              7655|Withdrawal|        null|        null|     57.441|     10.537|        2621927|    Frederikshavn| 281.14|    1019|      94|        12|     251|  1.275|        92|       500|        Rain|         light rain|           105|    45|2017010101|           7|\n",
      "|    Active|     DKK|              5587|Withdrawal|        null|        null|     57.441|     10.537|        2621927|    Frederikshavn|280.637|    1017|      97|         8|     269|  0.645|        92|       500|        Rain|         light rain|           105|    45|2017010102|           7|\n",
      "|    Active|     DKK|              8163|Withdrawal|        null|        null|     57.441|     10.537|        2621927|    Frederikshavn|280.289|    1016|     100|         8|     272|    0.0|        88|       804|      Clouds|    overcast clouds|           105|    45|2017010106|           7|\n",
      "|    Active|     DKK|              4192|Withdrawal|        null|        null|     57.441|     10.537|        2621927|    Frederikshavn|280.289|    1016|     100|         8|     272|    0.0|        88|       804|      Clouds|    overcast clouds|           105|    45|2017010107|           3|\n",
      "|    Active|     DKK|              6707|Withdrawal|        null|        null|     57.441|     10.537|        2621927|    Frederikshavn| 280.27|    1016|      99|         7|     299|    0.0|        88|       804|      Clouds|    overcast clouds|           105|    45|2017010110|           7|\n",
      "+----------+--------+------------------+----------+------------+------------+-----------+-----------+---------------+-----------------+-------+--------+--------+----------+--------+-------+----------+----------+------------+-------------------+--------------+------+----------+------------+\n",
      "only showing top 5 rows"
     ]
    }
   ],
   "source": [
    "#joining with card type dimension\n",
    "fact = fact.join(dim_card_type, (fact.card_type == dim_card_type.card_type), 'left')\\\n",
    ".select(fact.atm_status,\n",
    " fact.currency,\n",
    " fact.transaction_amount,\n",
    " fact.service,\n",
    " fact.message_code,\n",
    " fact.message_text,\n",
    " fact.weather_lat,\n",
    " fact.weather_lon,\n",
    " fact.weather_city_id,\n",
    " fact.weather_city_name,\n",
    " fact.temp,\n",
    " fact.pressure,\n",
    " fact.humidity,\n",
    " fact.wind_speed,\n",
    " fact.wind_deg,\n",
    " fact.rain_3h,\n",
    " fact.clouds_all,\n",
    " fact.weather_id,\n",
    " fact.weather_main,\n",
    " fact.weather_description, fact.weather_loc_id, fact.atm_id, fact.date_id, dim_card_type.card_type_id)\n",
    "fact.show(5)"
   ]
  },
  {
   "cell_type": "code",
   "execution_count": 23,
   "id": "47f0c053",
   "metadata": {},
   "outputs": [
    {
     "data": {
      "application/vnd.jupyter.widget-view+json": {
       "model_id": "665560fd0f97454f83c53edcf14350bf",
       "version_major": 2,
       "version_minor": 0
      },
      "text/plain": [
       "VBox()"
      ]
     },
     "metadata": {},
     "output_type": "display_data"
    },
    {
     "data": {
      "application/vnd.jupyter.widget-view+json": {
       "model_id": "",
       "version_major": 2,
       "version_minor": 0
      },
      "text/plain": [
       "FloatProgress(value=0.0, bar_style='info', description='Progress:', layout=Layout(height='25px', width='50%'),…"
      ]
     },
     "metadata": {},
     "output_type": "display_data"
    },
    {
     "name": "stdout",
     "output_type": "stream",
     "text": [
      "2468572"
     ]
    }
   ],
   "source": [
    "fact.count()"
   ]
  },
  {
   "cell_type": "markdown",
   "id": "a6af8be0",
   "metadata": {},
   "source": [
    "<b>5.5 Adding transaction id to final fact dataframe</b>"
   ]
  },
  {
   "cell_type": "code",
   "execution_count": 24,
   "id": "4f6458b5",
   "metadata": {},
   "outputs": [
    {
     "data": {
      "application/vnd.jupyter.widget-view+json": {
       "model_id": "b85ede81c5ee40cd8b4ea88c47aca55e",
       "version_major": 2,
       "version_minor": 0
      },
      "text/plain": [
       "VBox()"
      ]
     },
     "metadata": {},
     "output_type": "display_data"
    },
    {
     "data": {
      "application/vnd.jupyter.widget-view+json": {
       "model_id": "",
       "version_major": 2,
       "version_minor": 0
      },
      "text/plain": [
       "FloatProgress(value=0.0, bar_style='info', description='Progress:', layout=Layout(height='25px', width='50%'),…"
      ]
     },
     "metadata": {},
     "output_type": "display_data"
    },
    {
     "name": "stdout",
     "output_type": "stream",
     "text": [
      "+--------+------+--------------+----------+------------+----------+--------+----------+------------------+------------+------------+-------+----------+----------+------------+-------------------+\n",
      "|trans_id|atm_id|weather_loc_id|   date_id|card_type_id|atm_status|currency|   service|transaction_amount|message_code|message_text|rain_3h|clouds_all|weather_id|weather_main|weather_description|\n",
      "+--------+------+--------------+----------+------------+----------+--------+----------+------------------+------------+------------+-------+----------+----------+------------+-------------------+\n",
      "|       1|     1|            16|2017010100|           7|    Active|     DKK|Withdrawal|              5643|        null|        null|  0.215|        92|       500|        Rain|         light rain|\n",
      "|       2|     1|            16|2017010101|           9|    Active|     DKK|Withdrawal|              1979|        null|        null|  0.215|        92|       500|        Rain|         light rain|\n",
      "|       3|     1|            16|2017010101|           7|    Active|     DKK|Withdrawal|              7583|        null|        null|  0.215|        92|       500|        Rain|         light rain|\n",
      "|       4|     1|            16|2017010101|           9|    Active|     DKK|Withdrawal|              7899|        null|        null|  0.215|        92|       500|        Rain|         light rain|\n",
      "|       5|     1|            16|2017010101|           9|    Active|     DKK|Withdrawal|              7547|        null|        null|  0.215|        92|       500|        Rain|         light rain|\n",
      "+--------+------+--------------+----------+------------+----------+--------+----------+------------------+------------+------------+-------+----------+----------+------------+-------------------+\n",
      "only showing top 5 rows"
     ]
    }
   ],
   "source": [
    "#using row_number() function to create sequence for id column\n",
    "fact_atm_trans = fact.select(F.row_number().over(Window.partitionBy().orderBy(\"atm_id\")).alias(\"trans_id\"),\"atm_id\",\n",
    "                                       \"weather_loc_id\", \"date_id\",\"card_type_id\", \"atm_status\",\"currency\",\"service\",\n",
    "                                       \"transaction_amount\",\"message_code\",\"message_text\",\"rain_3h\",\"clouds_all\",\"weather_id\",\n",
    "                                       \"weather_main\",\"weather_description\")\n",
    "fact_atm_trans.show(5) "
   ]
  },
  {
   "cell_type": "code",
   "execution_count": 25,
   "id": "e8de4190",
   "metadata": {},
   "outputs": [
    {
     "data": {
      "application/vnd.jupyter.widget-view+json": {
       "model_id": "8eb1e1b599af448484106783646b33b7",
       "version_major": 2,
       "version_minor": 0
      },
      "text/plain": [
       "VBox()"
      ]
     },
     "metadata": {},
     "output_type": "display_data"
    },
    {
     "data": {
      "application/vnd.jupyter.widget-view+json": {
       "model_id": "",
       "version_major": 2,
       "version_minor": 0
      },
      "text/plain": [
       "FloatProgress(value=0.0, bar_style='info', description='Progress:', layout=Layout(height='25px', width='50%'),…"
      ]
     },
     "metadata": {},
     "output_type": "display_data"
    },
    {
     "name": "stdout",
     "output_type": "stream",
     "text": [
      "2468572"
     ]
    }
   ],
   "source": [
    "fact_atm_trans.count()"
   ]
  },
  {
   "cell_type": "markdown",
   "id": "17d09eec",
   "metadata": {},
   "source": [
    "<b>5.6 Transforming fact dataframe to standardize values</b>"
   ]
  },
  {
   "cell_type": "code",
   "execution_count": 42,
   "id": "caf464b4",
   "metadata": {},
   "outputs": [
    {
     "data": {
      "application/vnd.jupyter.widget-view+json": {
       "model_id": "50535b584c5c485bba602e171b96ad0b",
       "version_major": 2,
       "version_minor": 0
      },
      "text/plain": [
       "VBox()"
      ]
     },
     "metadata": {},
     "output_type": "display_data"
    },
    {
     "data": {
      "application/vnd.jupyter.widget-view+json": {
       "model_id": "",
       "version_major": 2,
       "version_minor": 0
      },
      "text/plain": [
       "FloatProgress(value=0.0, bar_style='info', description='Progress:', layout=Layout(height='25px', width='50%'),…"
      ]
     },
     "metadata": {},
     "output_type": "display_data"
    },
    {
     "name": "stdout",
     "output_type": "stream",
     "text": [
      "[Row(weather_description=None), Row(weather_description='shower sleet'), Row(weather_description='haze'), Row(weather_description='light intensity drizzle'), Row(weather_description='light intensity shower rain'), Row(weather_description='proximity thunderstorm'), Row(weather_description='sleet'), Row(weather_description='thunderstorm with heavy rain'), Row(weather_description='rain and snow'), Row(weather_description='light shower snow'), Row(weather_description='rain and drizzle'), Row(weather_description='ragged shower rain'), Row(weather_description='proximity shower rain'), Row(weather_description='light rain'), Row(weather_description='heavy intensity rain and drizzle'), Row(weather_description='broken clouds'), Row(weather_description='scattered clouds'), Row(weather_description='thunderstorm with light rain'), Row(weather_description='heavy intensity rain'), Row(weather_description='tornado'), Row(weather_description='light snow'), Row(weather_description='thunderstorm with rain'), Row(weather_description='heavy intensity drizzle'), Row(weather_description='heavy snow'), Row(weather_description='fog'), Row(weather_description='few clouds'), Row(weather_description='shower snow'), Row(weather_description='freezing rain'), Row(weather_description='moderate rain'), Row(weather_description='light shower sleet'), Row(weather_description='shower rain'), Row(weather_description='snow'), Row(weather_description='thunderstorm'), Row(weather_description='drizzle'), Row(weather_description='shower drizzle'), Row(weather_description='sky is Clear'), Row(weather_description='heavy intensity shower rain'), Row(weather_description='overcast clouds'), Row(weather_description='light intensity drizzle rain'), Row(weather_description='sky is clear'), Row(weather_description='light rain and snow'), Row(weather_description='mist')]"
     ]
    }
   ],
   "source": [
    "#checking values for weather_description\n",
    "fact_atm_trans.select('weather_description').distinct().collect()"
   ]
  },
  {
   "cell_type": "code",
   "execution_count": 27,
   "id": "c7864a50",
   "metadata": {},
   "outputs": [
    {
     "data": {
      "application/vnd.jupyter.widget-view+json": {
       "model_id": "961f579f464641e497dd5e584274a8fc",
       "version_major": 2,
       "version_minor": 0
      },
      "text/plain": [
       "VBox()"
      ]
     },
     "metadata": {},
     "output_type": "display_data"
    },
    {
     "data": {
      "application/vnd.jupyter.widget-view+json": {
       "model_id": "",
       "version_major": 2,
       "version_minor": 0
      },
      "text/plain": [
       "FloatProgress(value=0.0, bar_style='info', description='Progress:', layout=Layout(height='25px', width='50%'),…"
      ]
     },
     "metadata": {},
     "output_type": "display_data"
    },
    {
     "name": "stdout",
     "output_type": "stream",
     "text": [
      "[Row(weather_description=None), Row(weather_description='shower sleet'), Row(weather_description='haze'), Row(weather_description='light intensity drizzle'), Row(weather_description='light intensity shower rain'), Row(weather_description='proximity thunderstorm'), Row(weather_description='sleet'), Row(weather_description='thunderstorm with heavy rain'), Row(weather_description='rain and snow'), Row(weather_description='light shower snow'), Row(weather_description='rain and drizzle'), Row(weather_description='ragged shower rain'), Row(weather_description='proximity shower rain'), Row(weather_description='light rain'), Row(weather_description='heavy intensity rain and drizzle'), Row(weather_description='broken clouds'), Row(weather_description='scattered clouds'), Row(weather_description='thunderstorm with light rain'), Row(weather_description='heavy intensity rain'), Row(weather_description='tornado'), Row(weather_description='light snow'), Row(weather_description='thunderstorm with rain'), Row(weather_description='heavy intensity drizzle'), Row(weather_description='heavy snow'), Row(weather_description='fog'), Row(weather_description='few clouds'), Row(weather_description='shower snow'), Row(weather_description='freezing rain'), Row(weather_description='moderate rain'), Row(weather_description='light shower sleet'), Row(weather_description='shower rain'), Row(weather_description='snow'), Row(weather_description='thunderstorm'), Row(weather_description='drizzle'), Row(weather_description='shower drizzle'), Row(weather_description='sky is Clear'), Row(weather_description='heavy intensity shower rain'), Row(weather_description='overcast clouds'), Row(weather_description='light intensity drizzle rain'), Row(weather_description='sky is clear'), Row(weather_description='light rain and snow'), Row(weather_description='mist')]"
     ]
    }
   ],
   "source": [
    "#Standardizing values for weather_description \n",
    "fact_atm_trans = fact_atm_trans.na.replace('sky is Clear', 'sky is clear', 'weather_description')\n",
    "fact_atm_trans.select('weather_description').distinct().collect()"
   ]
  },
  {
   "cell_type": "code",
   "execution_count": 29,
   "id": "62bd40cf",
   "metadata": {},
   "outputs": [
    {
     "data": {
      "application/vnd.jupyter.widget-view+json": {
       "model_id": "af4cc88879544e8ea81f1a82f04600dd",
       "version_major": 2,
       "version_minor": 0
      },
      "text/plain": [
       "VBox()"
      ]
     },
     "metadata": {},
     "output_type": "display_data"
    },
    {
     "data": {
      "application/vnd.jupyter.widget-view+json": {
       "model_id": "",
       "version_major": 2,
       "version_minor": 0
      },
      "text/plain": [
       "FloatProgress(value=0.0, bar_style='info', description='Progress:', layout=Layout(height='25px', width='50%'),…"
      ]
     },
     "metadata": {},
     "output_type": "display_data"
    },
    {
     "name": "stdout",
     "output_type": "stream",
     "text": [
      "[Row(weather_main=None), Row(weather_main='Clear'), Row(weather_main='Clouds'), Row(weather_main='Mist'), Row(weather_main='Thunderstorm'), Row(weather_main='Snow'), Row(weather_main='Haze'), Row(weather_main='TORNADO'), Row(weather_main='Drizzle'), Row(weather_main='Fog'), Row(weather_main='Rain')]"
     ]
    }
   ],
   "source": [
    "#checking values for weather_main\n",
    "fact_atm_trans.select('weather_main').distinct().collect()"
   ]
  },
  {
   "cell_type": "code",
   "execution_count": 41,
   "id": "f188eccf",
   "metadata": {},
   "outputs": [
    {
     "data": {
      "application/vnd.jupyter.widget-view+json": {
       "model_id": "54a7300b13db49e593ebca7d80457b12",
       "version_major": 2,
       "version_minor": 0
      },
      "text/plain": [
       "VBox()"
      ]
     },
     "metadata": {},
     "output_type": "display_data"
    },
    {
     "data": {
      "application/vnd.jupyter.widget-view+json": {
       "model_id": "",
       "version_major": 2,
       "version_minor": 0
      },
      "text/plain": [
       "FloatProgress(value=0.0, bar_style='info', description='Progress:', layout=Layout(height='25px', width='50%'),…"
      ]
     },
     "metadata": {},
     "output_type": "display_data"
    },
    {
     "name": "stdout",
     "output_type": "stream",
     "text": [
      "[Row(weather_main='Clear'), Row(weather_main='Other'), Row(weather_main='Clouds'), Row(weather_main='Mist'), Row(weather_main='Thunderstorm'), Row(weather_main='Snow'), Row(weather_main='Haze'), Row(weather_main='TORNADO'), Row(weather_main='Drizzle'), Row(weather_main='Fog'), Row(weather_main='Rain')]"
     ]
    }
   ],
   "source": [
    "#Replacing null values with Other for weather_main\n",
    "fact_atm_trans = fact_atm_trans.na.fill('Other', 'weather_main')\n",
    "fact_atm_trans.select('weather_main').distinct().collect()"
   ]
  },
  {
   "cell_type": "code",
   "execution_count": 45,
   "id": "c0a22536",
   "metadata": {},
   "outputs": [
    {
     "data": {
      "application/vnd.jupyter.widget-view+json": {
       "model_id": "87aa611ea45d439886b129f6c90e791b",
       "version_major": 2,
       "version_minor": 0
      },
      "text/plain": [
       "VBox()"
      ]
     },
     "metadata": {},
     "output_type": "display_data"
    },
    {
     "data": {
      "application/vnd.jupyter.widget-view+json": {
       "model_id": "",
       "version_major": 2,
       "version_minor": 0
      },
      "text/plain": [
       "FloatProgress(value=0.0, bar_style='info', description='Progress:', layout=Layout(height='25px', width='50%'),…"
      ]
     },
     "metadata": {},
     "output_type": "display_data"
    },
    {
     "name": "stdout",
     "output_type": "stream",
     "text": [
      "[Row(message_code=None), Row(message_code='4014'), Row(message_code='4018'), Row(message_code='4006'), Row(message_code='4002'), Row(message_code='4019'), Row(message_code='0000'), Row(message_code='4017')]"
     ]
    }
   ],
   "source": [
    "#checking values for message_code\n",
    "fact_atm_trans.select('message_code').distinct().collect()"
   ]
  },
  {
   "cell_type": "code",
   "execution_count": 46,
   "id": "2f4a0d27",
   "metadata": {},
   "outputs": [
    {
     "data": {
      "application/vnd.jupyter.widget-view+json": {
       "model_id": "b66527d8dff14fc89affa34957f191f1",
       "version_major": 2,
       "version_minor": 0
      },
      "text/plain": [
       "VBox()"
      ]
     },
     "metadata": {},
     "output_type": "display_data"
    },
    {
     "data": {
      "application/vnd.jupyter.widget-view+json": {
       "model_id": "",
       "version_major": 2,
       "version_minor": 0
      },
      "text/plain": [
       "FloatProgress(value=0.0, bar_style='info', description='Progress:', layout=Layout(height='25px', width='50%'),…"
      ]
     },
     "metadata": {},
     "output_type": "display_data"
    },
    {
     "name": "stdout",
     "output_type": "stream",
     "text": [
      "[Row(message_code='4014'), Row(message_code='4018'), Row(message_code='4006'), Row(message_code='4002'), Row(message_code='4019'), Row(message_code='0000'), Row(message_code='4017')]"
     ]
    }
   ],
   "source": [
    "#Replacing null values with '0000' for message_code\n",
    "fact_atm_trans = fact_atm_trans.na.fill('0000', 'message_code')\n",
    "fact_atm_trans.select('message_code').distinct().collect()"
   ]
  },
  {
   "cell_type": "markdown",
   "id": "316f195c",
   "metadata": {},
   "source": [
    "<b> 6. Loading data to S3 bucket \"etlproject-rit\" as CSV files</b>"
   ]
  },
  {
   "cell_type": "code",
   "execution_count": 53,
   "id": "f45ef889",
   "metadata": {},
   "outputs": [
    {
     "data": {
      "application/vnd.jupyter.widget-view+json": {
       "model_id": "43e8c81c1a4447cd9049ca0dd25c4bc8",
       "version_major": 2,
       "version_minor": 0
      },
      "text/plain": [
       "VBox()"
      ]
     },
     "metadata": {},
     "output_type": "display_data"
    },
    {
     "data": {
      "application/vnd.jupyter.widget-view+json": {
       "model_id": "",
       "version_major": 2,
       "version_minor": 0
      },
      "text/plain": [
       "FloatProgress(value=0.0, bar_style='info', description='Progress:', layout=Layout(height='25px', width='50%'),…"
      ]
     },
     "metadata": {},
     "output_type": "display_data"
    }
   ],
   "source": [
    "dim_location.write.options(header='True', delimiter=',').csv(\"s3://etlproject-rit/dim_location\")\n",
    "dim_atm.write.options(header='True', delimiter=',').csv(\"s3://etlproject-rit/dim_atm\")\n",
    "dim_date.write.options(header='True', delimiter=',').csv(\"s3://etlproject-rit/dim_date\")\n",
    "dim_card_type.write.options(header='True', delimiter=',').csv(\"s3://etlproject-rit/dim_card_type\")\n",
    "fact_atm_trans.write.options(header='True', delimiter=',').csv(\"s3://etlproject-rit/fact_atm_trans\")"
   ]
  }
 ],
 "metadata": {
  "kernelspec": {
   "display_name": "PySpark",
   "language": "",
   "name": "pysparkkernel"
  },
  "language_info": {
   "codemirror_mode": {
    "name": "python",
    "version": 2
   },
   "mimetype": "text/x-python",
   "name": "pyspark",
   "pygments_lexer": "python2"
  }
 },
 "nbformat": 4,
 "nbformat_minor": 5
}
